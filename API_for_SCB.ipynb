{
 "cells": [
  {
   "cell_type": "code",
   "execution_count": 62,
   "id": "694f6634",
   "metadata": {},
   "outputs": [
    {
     "name": "stdout",
     "output_type": "stream",
     "text": [
      "Requirement already satisfied: requests in c:\\anaconda\\lib\\site-packages (2.31.0)\n",
      "Requirement already satisfied: charset-normalizer<4,>=2 in c:\\anaconda\\lib\\site-packages (from requests) (2.0.4)\n",
      "Requirement already satisfied: idna<4,>=2.5 in c:\\anaconda\\lib\\site-packages (from requests) (3.4)\n",
      "Requirement already satisfied: urllib3<3,>=1.21.1 in c:\\anaconda\\lib\\site-packages (from requests) (1.26.16)\n",
      "Requirement already satisfied: certifi>=2017.4.17 in c:\\anaconda\\lib\\site-packages (from requests) (2023.11.17)\n"
     ]
    }
   ],
   "source": [
    "!pip install requests"
   ]
  },
  {
   "cell_type": "code",
   "execution_count": 63,
   "id": "09aa2ea7",
   "metadata": {
    "scrolled": false
   },
   "outputs": [
    {
     "name": "stdout",
     "output_type": "stream",
     "text": [
      "{\"title\":\"Personbilar i trafik efter region, ägarkategori, tabellinnehåll och år\",\"variables\":[{\"code\":\"Region\",\"text\":\"region\",\"values\":[\"00\",\"01\",\"03\",\"04\",\"05\",\"06\",\"07\",\"08\",\"09\",\"10\",\"12\",\"13\",\"14\",\"15\",\"16\",\"17\",\"18\",\"19\",\"20\",\"21\",\"22\",\"23\",\"24\",\"25\",\"0114\",\"0115\",\"0117\",\"0120\",\"0123\",\"0125\",\"0126\",\"0127\",\"0128\",\"0136\",\"0138\",\"0139\",\"0140\",\"0160\",\"0162\",\"0163\",\"0180\",\"0181\",\"0182\",\"0183\",\"0184\",\"0186\",\"0187\",\"0188\",\"0191\",\"0192\",\"0305\",\"0319\",\"0330\",\"0331\",\"0360\",\"0380\",\"0381\",\"0382\",\"0428\",\"0461\",\"0480\",\"0481\",\"0482\",\"0483\",\"0484\",\"0486\",\"0488\",\"0509\",\"0512\",\"0513\",\"0560\",\"0561\",\"0562\",\"0563\",\"0580\",\"0581\",\"0582\",\"0583\",\"0584\",\"0586\",\"0604\",\"0617\",\"0642\",\"0643\",\"0662\",\"0665\",\"0680\",\"0682\",\"0683\",\"0684\",\"0685\",\"0686\",\"0687\",\"0760\",\"0761\",\"0763\",\"0764\",\"0765\",\"0767\",\"0780\",\"0781\",\"0821\",\"0834\",\"0840\",\"0860\",\"0861\",\"0862\",\"0880\",\"0881\",\"0882\",\"0883\",\"0884\",\"0885\",\"0980\",\"1060\",\"1080\",\"1081\",\"1082\",\"1083\",\"1214\",\"1230\",\"1231\",\"1233\",\"1256\",\"1257\",\"1260\",\"1261\",\"1262\",\"1263\",\"1264\",\"1265\",\"1266\",\"1267\",\"1270\",\"1272\",\"1273\",\"1275\",\"1276\",\"1277\",\"1278\",\"1280\",\"1281\",\"1282\",\"1283\",\"1284\",\"1285\",\"1286\",\"1287\",\"1290\",\"1291\",\"1292\",\"1293\",\"1315\",\"1380\",\"1381\",\"1382\",\"1383\",\"1384\",\"1401\",\"1402\",\"1407\",\"1415\",\"1419\",\"1421\",\"1427\",\"1430\",\"1435\",\"1438\",\"1439\",\"1440\",\"1441\",\"1442\",\"1443\",\"1444\",\"1445\",\"1446\",\"1447\",\"1452\",\"1460\",\"1461\",\"1462\",\"1463\",\"1465\",\"1466\",\"1470\",\"1471\",\"1472\",\"1473\",\"1480\",\"1481\",\"1482\",\"1484\",\"1485\",\"1486\",\"1487\",\"1488\",\"1489\",\"1490\",\"1491\",\"1492\",\"1493\",\"1494\",\"1495\",\"1496\",\"1497\",\"1498\",\"1499\",\"1715\",\"1730\",\"1737\",\"1760\",\"1761\",\"1762\",\"1763\",\"1764\",\"1765\",\"1766\",\"1780\",\"1781\",\"1782\",\"1783\",\"1784\",\"1785\",\"1814\",\"1860\",\"1861\",\"1862\",\"1863\",\"1864\",\"1880\",\"1881\",\"1882\",\"1883\",\"1884\",\"1885\",\"1904\",\"1907\",\"1917\",\"1960\",\"1961\",\"1962\",\"1980\",\"1981\",\"1982\",\"1983\",\"1984\",\"2021\",\"2023\",\"2026\",\"2029\",\"2031\",\"2034\",\"2039\",\"2061\",\"2062\",\"2080\",\"2081\",\"2082\",\"2083\",\"2084\",\"2085\",\"2101\",\"2104\",\"2121\",\"2132\",\"2161\",\"2180\",\"2181\",\"2182\",\"2183\",\"2184\",\"2260\",\"2262\",\"2280\",\"2281\",\"2282\",\"2283\",\"2284\",\"2303\",\"2305\",\"2309\",\"2313\",\"2321\",\"2326\",\"2361\",\"2380\",\"2401\",\"2403\",\"2404\",\"2409\",\"2417\",\"2418\",\"2421\",\"2422\",\"2425\",\"2460\",\"2462\",\"2463\",\"2480\",\"2481\",\"2482\",\"2505\",\"2506\",\"2510\",\"2513\",\"2514\",\"2518\",\"2521\",\"2523\",\"2560\",\"2580\",\"2581\",\"2582\",\"2583\",\"2584\"],\"valueTexts\":[\"Riket\",\"Stockholms län\",\"Uppsala län\",\"Södermanlands län\",\"Östergötlands län\",\"Jönköpings län\",\"Kronobergs län\",\"Kalmar län\",\"Gotlands län\",\"Blekinge län\",\"Skåne län\",\"Hallands län\",\"Västra Götalands län\",\"f.d. Älvsborgs län\",\"f.d. Skaraborgs län\",\"Värmlands län\",\"Örebro län\",\"Västmanlands län\",\"Dalarnas län\",\"Gävleborgs län\",\"Västernorrlands län\",\"Jämtlands län\",\"Västerbottens län\",\"Norrbottens län\",\"Upplands Väsby\",\"Vallentuna\",\"Österåker\",\"Värmdö\",\"Järfälla\",\"Ekerö\",\"Huddinge\",\"Botkyrka\",\"Salem\",\"Haninge\",\"Tyresö\",\"Upplands-Bro\",\"Nykvarn\",\"Täby\",\"Danderyd\",\"Sollentuna\",\"Stockholm\",\"Södertälje\",\"Nacka\",\"Sundbyberg\",\"Solna\",\"Lidingö\",\"Vaxholm\",\"Norrtälje\",\"Sigtuna\",\"Nynäshamn\",\"Håbo\",\"Älvkarleby\",\"Knivsta\",\"Heby\",\"Tierp\",\"Uppsala\",\"Enköping\",\"Östhammar\",\"Vingåker\",\"Gnesta\",\"Nyköping\",\"Oxelösund\",\"Flen\",\"Katrineholm\",\"Eskilstuna\",\"Strängnäs\",\"Trosa\",\"Ödeshög\",\"Ydre\",\"Kinda\",\"Boxholm\",\"Åtvidaberg\",\"Finspång\",\"Valdemarsvik\",\"Linköping\",\"Norrköping\",\"Söderköping\",\"Motala\",\"Vadstena\",\"Mjölby\",\"Aneby\",\"Gnosjö\",\"Mullsjö\",\"Habo\",\"Gislaved\",\"Vaggeryd\",\"Jönköping\",\"Nässjö\",\"Värnamo\",\"Sävsjö\",\"Vetlanda\",\"Eksjö\",\"Tranås\",\"Uppvidinge\",\"Lessebo\",\"Tingsryd\",\"Alvesta\",\"Älmhult\",\"Markaryd\",\"Växjö\",\"Ljungby\",\"Högsby\",\"Torsås\",\"Mörbylånga\",\"Hultsfred\",\"Mönsterås\",\"Emmaboda\",\"Kalmar\",\"Nybro\",\"Oskarshamn\",\"Västervik\",\"Vimmerby\",\"Borgholm\",\"Gotland\",\"Olofström\",\"Karlskrona\",\"Ronneby\",\"Karlshamn\",\"Sölvesborg\",\"Svalöv\",\"Staffanstorp\",\"Burlöv\",\"Vellinge\",\"Östra Göinge\",\"Örkelljunga\",\"Bjuv\",\"Kävlinge\",\"Lomma\",\"Svedala\",\"Skurup\",\"Sjöbo\",\"Hörby\",\"Höör\",\"Tomelilla\",\"Bromölla\",\"Osby\",\"Perstorp\",\"Klippan\",\"Åstorp\",\"Båstad\",\"Malmö\",\"Lund\",\"Landskrona\",\"Helsingborg\",\"Höganäs\",\"Eslöv\",\"Ystad\",\"Trelleborg\",\"Kristianstad\",\"Simrishamn\",\"Ängelholm\",\"Hässleholm\",\"Hylte\",\"Halmstad\",\"Laholm\",\"Falkenberg\",\"Varberg\",\"Kungsbacka\",\"Härryda\",\"Partille\",\"Öckerö\",\"Stenungsund\",\"Tjörn\",\"Orust\",\"Sotenäs\",\"Munkedal\",\"Tanum\",\"Dals-Ed\",\"Färgelanda\",\"Ale\",\"Lerum\",\"Vårgårda\",\"Bollebygd\",\"Grästorp\",\"Essunga\",\"Karlsborg\",\"Gullspång\",\"Tranemo\",\"Bengtsfors\",\"Mellerud\",\"Lilla Edet\",\"Mark\",\"Svenljunga\",\"Herrljunga\",\"Vara\",\"Götene\",\"Tibro\",\"Töreboda\",\"Göteborg\",\"Mölndal\",\"Kungälv\",\"Lysekil\",\"Uddevalla\",\"Strömstad\",\"Vänersborg\",\"Trollhättan\",\"Alingsås\",\"Borås\",\"Ulricehamn\",\"Åmål\",\"Mariestad\",\"Lidköping\",\"Skara\",\"Skövde\",\"Hjo\",\"Tidaholm\",\"Falköping\",\"Kil\",\"Eda\",\"Torsby\",\"Storfors\",\"Hammarö\",\"Munkfors\",\"Forshaga\",\"Grums\",\"Årjäng\",\"Sunne\",\"Karlstad\",\"Kristinehamn\",\"Filipstad\",\"Hagfors\",\"Arvika\",\"Säffle\",\"Lekeberg\",\"Laxå\",\"Hallsberg\",\"Degerfors\",\"Hällefors\",\"Ljusnarsberg\",\"Örebro\",\"Kumla\",\"Askersund\",\"Karlskoga\",\"Nora\",\"Lindesberg\",\"Skinnskatteberg\",\"Surahammar\",\"Heby\",\"Kungsör\",\"Hallstahammar\",\"Norberg\",\"Västerås\",\"Sala\",\"Fagersta\",\"Köping\",\"Arboga\",\"Vansbro\",\"Malung-Sälen\",\"Gagnef\",\"Leksand\",\"Rättvik\",\"Orsa\",\"Älvdalen\",\"Smedjebacken\",\"Mora\",\"Falun\",\"Borlänge\",\"Säter\",\"Hedemora\",\"Avesta\",\"Ludvika\",\"Ockelbo\",\"Hofors\",\"Ovanåker\",\"Nordanstig\",\"Ljusdal\",\"Gävle\",\"Sandviken\",\"Söderhamn\",\"Bollnäs\",\"Hudiksvall\",\"Ånge\",\"Timrå\",\"Härnösand\",\"Sundsvall\",\"Kramfors\",\"Sollefteå\",\"Örnsköldsvik\",\"Ragunda\",\"Bräcke\",\"Krokom\",\"Strömsund\",\"Åre\",\"Berg\",\"Härjedalen\",\"Östersund\",\"Nordmaling\",\"Bjurholm\",\"Vindeln\",\"Robertsfors\",\"Norsjö\",\"Malå\",\"Storuman\",\"Sorsele\",\"Dorotea\",\"Vännäs\",\"Vilhelmina\",\"Åsele\",\"Umeå\",\"Lycksele\",\"Skellefteå\",\"Arvidsjaur\",\"Arjeplog\",\"Jokkmokk\",\"Överkalix\",\"Kalix\",\"Övertorneå\",\"Pajala\",\"Gällivare\",\"Älvsbyn\",\"Luleå\",\"Piteå\",\"Boden\",\"Haparanda\",\"Kiruna\"]},{\"code\":\"Agarkategori\",\"text\":\"ägarkategori\",\"values\":[\"000\",\"010\",\"020\",\"030\",\"040\",\"050\",\"060\"],\"valueTexts\":[\"totalt\",\"kvinnor\",\"män\",\"juridiker\",\"taxi\",\"fysiska personers bilar per 1000 invånare\",\"totalt antal bilar per 1000 invånare\"],\"elimination\":true},{\"code\":\"ContentsCode\",\"text\":\"tabellinnehåll\",\"values\":[\"TK1001AB\"],\"valueTexts\":[\"Personbilar i trafik\"]},{\"code\":\"Tid\",\"text\":\"år\",\"values\":[\"2002\",\"2003\",\"2004\",\"2005\",\"2006\",\"2007\",\"2008\",\"2009\",\"2010\",\"2011\",\"2012\",\"2013\",\"2014\",\"2015\",\"2016\",\"2017\",\"2018\",\"2019\",\"2020\",\"2021\",\"2022\",\"2023\"],\"valueTexts\":[\"2002\",\"2003\",\"2004\",\"2005\",\"2006\",\"2007\",\"2008\",\"2009\",\"2010\",\"2011\",\"2012\",\"2013\",\"2014\",\"2015\",\"2016\",\"2017\",\"2018\",\"2019\",\"2020\",\"2021\",\"2022\",\"2023\"],\"time\":true}]}\n"
     ]
    }
   ],
   "source": [
    "# Access data using the given url\n",
    "\n",
    "import requests\n",
    "\n",
    "def fetch_data_from_api(url):\n",
    "    try:\n",
    "        # Make a GET request to the URL\n",
    "        response = requests.get(url)\n",
    "\n",
    "        # Check if request was successful\n",
    "        if response.status_code == 200:\n",
    "            return response.text  # Return the response content\n",
    "        else:\n",
    "            return {\"error\": f\"Failed to fetch data. Status code: {response.status_code}\"}\n",
    "    except Exception as e:\n",
    "        return {\"error\": f\"An error occurred: {str(e)}\"}\n",
    "\n",
    "# Define the URL\n",
    "api_url = \"https://api.scb.se/OV0104/v1/doris/sv/ssd/START/TK/TK1001/TK1001A/PersBilarA\"\n",
    "\n",
    "# Call the function with the provided URL\n",
    "result = fetch_data_from_api(api_url)\n",
    "print(result)\n"
   ]
  },
  {
   "cell_type": "code",
   "execution_count": 64,
   "id": "bd986d05",
   "metadata": {},
   "outputs": [],
   "source": [
    "# Create a DataFrame from the tabular data\n",
    "df = pd.DataFrame(tabular_data)"
   ]
  },
  {
   "cell_type": "code",
   "execution_count": 66,
   "id": "e76e4dc8",
   "metadata": {},
   "outputs": [
    {
     "name": "stdout",
     "output_type": "stream",
     "text": [
      "   County  Year  Number of Cars\n",
      "0   Skåne  2002          517569\n",
      "1   Skåne  2003          517569\n",
      "2   Skåne  2004          517569\n",
      "3   Skåne  2005          517569\n",
      "4   Skåne  2006          517569\n",
      "5   Skåne  2007          517569\n",
      "6   Skåne  2008          517569\n",
      "7   Skåne  2009          517569\n",
      "8   Skåne  2010          517569\n",
      "9   Skåne  2011          517569\n",
      "10  Skåne  2012          517569\n",
      "11  Skåne  2013          517569\n",
      "12  Skåne  2014          517569\n",
      "13  Skåne  2015          517569\n",
      "14  Skåne  2016          517569\n",
      "15  Skåne  2017          517569\n",
      "16  Skåne  2018          517569\n",
      "17  Skåne  2019          517569\n",
      "18  Skåne  2020          517569\n",
      "19  Skåne  2021          517569\n",
      "20  Skåne  2022          517569\n",
      "21  Skåne  2023          517569\n"
     ]
    }
   ],
   "source": [
    "# See the data för Skåne county from the year 2002-2023 in tabular form which can seen in the website \n",
    "# https://www.statistikdatabasen.scb.se/pxweb/sv/ssd/START__TK__TK1001__TK1001A/PersBilarA/\n",
    "\n",
    "import pandas as pd\n",
    "\n",
    "# Extract the county name \"Skåne\" and each year (2002-2023)\n",
    "county = \"Skåne\"\n",
    "years = list(range(2002, 2024))  # Including 2023\n",
    "\n",
    "# Create a list of dictionaries to represent the data\n",
    "data = [{'County': county, 'Year': year, 'Number of Cars': row[0]} for year in years for row in tabular_data]\n",
    "\n",
    "# Create a DataFrame from the list of dictionaries\n",
    "df = pd.DataFrame(data)\n",
    "\n",
    "# Print the DataFrame\n",
    "print(df)\n"
   ]
  },
  {
   "cell_type": "code",
   "execution_count": 68,
   "id": "d11536b2",
   "metadata": {},
   "outputs": [
    {
     "name": "stdout",
     "output_type": "stream",
     "text": [
      "Tabular Data for the Year 2023:\n",
      "[662586]\n"
     ]
    }
   ],
   "source": [
    "# Filter tabular data for a specific year\n",
    "data_2023 = [row[21] for row in tabular_data]  # Assuming 2023 is at index 21 (adjust if needed)\n",
    "\n",
    "# Print tabular data for the year 2023\n",
    "print(\"Tabular Data for the Year 2023:\")\n",
    "print(data_2023)\n"
   ]
  },
  {
   "cell_type": "code",
   "execution_count": null,
   "id": "44016444",
   "metadata": {},
   "outputs": [],
   "source": [
    "# Thank you! :)"
   ]
  }
 ],
 "metadata": {
  "kernelspec": {
   "display_name": "Python 3 (ipykernel)",
   "language": "python",
   "name": "python3"
  },
  "language_info": {
   "codemirror_mode": {
    "name": "ipython",
    "version": 3
   },
   "file_extension": ".py",
   "mimetype": "text/x-python",
   "name": "python",
   "nbconvert_exporter": "python",
   "pygments_lexer": "ipython3",
   "version": "3.11.5"
  }
 },
 "nbformat": 4,
 "nbformat_minor": 5
}
